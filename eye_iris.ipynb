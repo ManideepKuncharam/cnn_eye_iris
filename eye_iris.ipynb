{
 "cells": [
  {
   "cell_type": "markdown",
   "metadata": {},
   "source": [
    "# Import Required Packages"
   ]
  },
  {
   "cell_type": "code",
   "execution_count": 1,
   "metadata": {
    "scrolled": true
   },
   "outputs": [
    {
     "name": "stderr",
     "output_type": "stream",
     "text": [
      "Using TensorFlow backend.\n"
     ]
    }
   ],
   "source": [
    "import cv2\n",
    "import os\n",
    "import glob\n",
    "import numpy as np\n",
    "from keras.applications.nasnet import NASNetLarge\n",
    "from keras.preprocessing import image\n",
    "from keras.applications.nasnet import preprocess_input\n",
    "import numpy as np\n",
    "from keras.applications.nasnet import decode_predictions\n",
    "from sklearn.metrics.pairwise import cosine_similarity"
   ]
  },
  {
   "cell_type": "markdown",
   "metadata": {},
   "source": [
    "# Importing Data And Reshaping"
   ]
  },
  {
   "cell_type": "code",
   "execution_count": 2,
   "metadata": {
    "scrolled": true
   },
   "outputs": [],
   "source": [
    "img_dir = \"C:\\\\Users\\\\manideep\\\\Downloads\\\\Images\\\\ALL\" \n",
    "data_path = os.path.join(img_dir,'*g')\n",
    "files = glob.glob(data_path)\n",
    "data = []\n",
    "dm=(331,331)\n",
    "for f1 in files:\n",
    "    try:\n",
    "        img = cv2.imread(f1)\n",
    "        img=cv2.resize(img,dm)\n",
    "        data.append(img)\n",
    "    except:\n",
    "        pass"
   ]
  },
  {
   "cell_type": "code",
   "execution_count": 3,
   "metadata": {
    "scrolled": true
   },
   "outputs": [],
   "source": [
    "data=np.array(data)"
   ]
  },
  {
   "cell_type": "code",
   "execution_count": 4,
   "metadata": {
    "scrolled": true
   },
   "outputs": [
    {
     "data": {
      "text/plain": [
       "967"
      ]
     },
     "execution_count": 4,
     "metadata": {},
     "output_type": "execute_result"
    }
   ],
   "source": [
    "len(data)"
   ]
  },
  {
   "cell_type": "markdown",
   "metadata": {},
   "source": [
    "# Extracting features from the train dataset using the Mobilev2 pre-trained model"
   ]
  },
  {
   "cell_type": "code",
   "execution_count": 5,
   "metadata": {
    "scrolled": true
   },
   "outputs": [
    {
     "name": "stderr",
     "output_type": "stream",
     "text": [
      "WARNING: Logging before flag parsing goes to stderr.\n",
      "W0416 10:03:20.546313 10780 deprecation_wrapper.py:119] From C:\\Users\\manideep\\Anaconda3\\lib\\site-packages\\keras\\backend\\tensorflow_backend.py:74: The name tf.get_default_graph is deprecated. Please use tf.compat.v1.get_default_graph instead.\n",
      "\n",
      "W0416 10:03:21.088937 10780 deprecation_wrapper.py:119] From C:\\Users\\manideep\\Anaconda3\\lib\\site-packages\\keras\\backend\\tensorflow_backend.py:517: The name tf.placeholder is deprecated. Please use tf.compat.v1.placeholder instead.\n",
      "\n",
      "W0416 10:03:21.227425 10780 deprecation_wrapper.py:119] From C:\\Users\\manideep\\Anaconda3\\lib\\site-packages\\keras\\backend\\tensorflow_backend.py:4185: The name tf.truncated_normal is deprecated. Please use tf.random.truncated_normal instead.\n",
      "\n",
      "W0416 10:03:21.398824 10780 deprecation_wrapper.py:119] From C:\\Users\\manideep\\Anaconda3\\lib\\site-packages\\keras\\backend\\tensorflow_backend.py:174: The name tf.get_default_session is deprecated. Please use tf.compat.v1.get_default_session instead.\n",
      "\n",
      "W0416 10:03:21.398824 10780 deprecation_wrapper.py:119] From C:\\Users\\manideep\\Anaconda3\\lib\\site-packages\\keras\\backend\\tensorflow_backend.py:181: The name tf.ConfigProto is deprecated. Please use tf.compat.v1.ConfigProto instead.\n",
      "\n",
      "W0416 10:03:21.732845 10780 deprecation_wrapper.py:119] From C:\\Users\\manideep\\Anaconda3\\lib\\site-packages\\keras\\backend\\tensorflow_backend.py:1834: The name tf.nn.fused_batch_norm is deprecated. Please use tf.compat.v1.nn.fused_batch_norm instead.\n",
      "\n",
      "W0416 10:03:22.154346 10780 deprecation_wrapper.py:119] From C:\\Users\\manideep\\Anaconda3\\lib\\site-packages\\keras\\backend\\tensorflow_backend.py:3976: The name tf.nn.max_pool is deprecated. Please use tf.nn.max_pool2d instead.\n",
      "\n",
      "W0416 10:03:22.376472 10780 deprecation_wrapper.py:119] From C:\\Users\\manideep\\Anaconda3\\lib\\site-packages\\keras\\backend\\tensorflow_backend.py:3980: The name tf.nn.avg_pool is deprecated. Please use tf.nn.avg_pool2d instead.\n",
      "\n"
     ]
    }
   ],
   "source": [
    "model1 = NASNetLarge(weights='imagenet', include_top=True,pooling='avg')\n",
    "features_train1=model1.predict(data)"
   ]
  },
  {
   "cell_type": "code",
   "execution_count": 6,
   "metadata": {
    "scrolled": true
   },
   "outputs": [],
   "source": [
    "l=[]\n",
    "img = cv2.imread('1.jpg')\n",
    "img=cv2.resize(img,dm)\n",
    "\n",
    "l.append(img)"
   ]
  },
  {
   "cell_type": "code",
   "execution_count": 7,
   "metadata": {
    "scrolled": true
   },
   "outputs": [],
   "source": [
    "l1=np.array(l)"
   ]
  },
  {
   "cell_type": "code",
   "execution_count": 8,
   "metadata": {
    "scrolled": true
   },
   "outputs": [],
   "source": [
    "f1=model1.predict(l1)"
   ]
  },
  {
   "cell_type": "code",
   "execution_count": 9,
   "metadata": {
    "scrolled": true
   },
   "outputs": [],
   "source": [
    "result1=cosine_similarity(f1,features_train1)"
   ]
  },
  {
   "cell_type": "code",
   "execution_count": 10,
   "metadata": {
    "scrolled": false
   },
   "outputs": [
    {
     "data": {
      "text/plain": [
       "array([[0.74286044, 0.62103033, 0.9565892 , 0.81123716, 0.21639192,\n",
       "        1.        , 0.6980057 , 0.8083389 , 0.6916993 , 0.6605643 ,\n",
       "        0.7548313 , 0.70932424, 0.7552818 , 0.8082532 , 0.69674075,\n",
       "        0.6870927 , 0.7532167 , 0.7564622 , 0.86115915, 0.750709  ,\n",
       "        0.8050427 , 0.41106766, 0.40288168, 0.8905465 , 0.5019726 ,\n",
       "        0.7115167 , 0.6631829 , 0.7952212 , 0.8231461 , 0.64173996,\n",
       "        0.68793035, 0.9081181 , 0.83450836, 0.63118625, 0.749552  ,\n",
       "        0.7093976 , 0.5459929 , 0.6950128 , 0.4476845 , 0.6500714 ,\n",
       "        0.71451294, 0.7921363 , 0.4083621 , 0.734331  , 0.6819549 ,\n",
       "        0.7320521 , 0.7953335 , 0.6846733 , 0.71862113, 0.4741764 ,\n",
       "        0.4555257 , 0.685604  , 0.67862236, 0.84789795, 0.7138731 ,\n",
       "        0.69225   , 0.3412375 , 0.33634517, 0.78943056, 0.74281174,\n",
       "        0.68805003, 0.78721917, 0.5924291 , 0.7927904 , 0.6629549 ,\n",
       "        0.80157024, 0.80571234, 0.6508807 , 0.7964208 , 0.8274233 ,\n",
       "        0.7520514 , 0.80930114, 0.6843367 , 0.7937566 , 0.8432382 ,\n",
       "        0.9000412 , 0.7544492 , 0.79408216, 0.7230701 , 0.76203084,\n",
       "        0.7127436 , 0.8825411 , 0.41757852, 0.0943142 , 0.02427976,\n",
       "        0.65937626, 0.80461323, 0.71642524, 0.65883255, 0.20011158,\n",
       "        0.5117858 , 0.78721976, 0.6952586 , 0.6952586 , 0.6984931 ,\n",
       "        0.6242771 , 0.7115513 , 0.680983  , 0.76405853, 0.71875966,\n",
       "        0.7113097 , 0.7015903 , 0.7015903 , 0.5866561 , 0.6302513 ,\n",
       "        0.81219774, 0.81219774, 0.5578729 , 0.7055041 , 0.925923  ,\n",
       "        0.27556753, 0.53646207, 0.33767623, 0.77614135, 0.5765278 ,\n",
       "        0.79228187, 0.8479184 , 0.82078874, 0.70838237, 0.77214205,\n",
       "        0.7888253 , 0.48803943, 0.8605028 , 0.77173775, 0.77173775,\n",
       "        0.593542  , 0.59354204, 0.5188571 , 0.87398654, 0.87398654,\n",
       "        0.81019175, 0.81291705, 0.7525525 , 0.7902675 , 0.7902675 ,\n",
       "        0.6390687 , 0.70109344, 0.9127159 , 0.74761045, 0.74761045,\n",
       "        0.74761045, 0.7422275 , 0.7923666 , 0.78384584, 0.78384584,\n",
       "        0.78384584, 0.7654123 , 0.86583257, 0.7630938 , 0.88734275,\n",
       "        0.78199625, 0.8418051 , 0.84441864, 0.84441864, 0.84441864,\n",
       "        0.7391219 , 0.7391219 , 0.75100416, 0.751004  , 0.63888776,\n",
       "        0.6098387 , 0.6139676 , 0.7686198 , 0.60350764, 0.7509699 ,\n",
       "        0.6242658 , 0.3903801 , 0.7646966 , 0.71675307, 0.71496737,\n",
       "        0.77159286, 0.8235722 , 0.80915177, 0.77656794, 0.79790986,\n",
       "        0.40143475, 0.7246219 , 0.72637355, 0.6450105 , 0.78955525,\n",
       "        0.7435354 , 0.84494823, 0.8007928 , 0.56855434, 0.61945176,\n",
       "        0.664135  , 0.7526129 , 0.7850227 , 0.7448609 , 0.7347643 ,\n",
       "        0.7558417 , 0.7130717 , 0.39840227, 0.73226106, 0.79999673,\n",
       "        0.7269152 , 0.6713578 , 0.5650809 , 0.76416445, 0.76007223,\n",
       "        0.7683193 , 0.80025876, 0.6881526 , 0.68776965, 0.6999723 ,\n",
       "        0.11239792, 0.09709838, 0.8459021 , 0.65292186, 0.4066302 ,\n",
       "        0.7499176 , 0.7214325 , 0.5771842 , 0.44651562, 0.7919458 ,\n",
       "        0.777522  , 0.80361784, 0.6398313 , 0.75575566, 0.83056635,\n",
       "        0.7870468 , 0.8698932 , 0.83356917, 0.6265948 , 0.78293353,\n",
       "        0.7382276 , 0.61834806, 0.87748605, 0.6704239 , 0.8366599 ,\n",
       "        0.7419203 , 0.75261253, 0.5226643 , 0.8044288 , 0.7745403 ,\n",
       "        0.5816241 , 0.6827806 , 0.6429076 , 0.7668294 , 0.74206746,\n",
       "        0.9099935 , 0.6278219 , 0.60433155, 0.8537731 , 0.8272922 ,\n",
       "        0.78673625, 0.89221317, 0.7595778 , 0.6610484 , 0.7176427 ,\n",
       "        0.7832061 , 0.76871467, 0.74247897, 0.38543266, 0.7257767 ,\n",
       "        0.449676  , 0.5795224 , 0.5795224 , 0.5795224 , 0.7081413 ,\n",
       "        0.7331432 , 0.64181405, 0.6437799 , 0.7573533 , 0.75924504,\n",
       "        0.8152663 , 0.7347628 , 0.77437687, 0.7768185 , 0.8222243 ,\n",
       "        0.7422529 , 0.34656167, 0.9514237 , 0.70727736, 0.7717345 ,\n",
       "        0.67665315, 0.72671205, 0.709082  , 0.76245224, 0.81038034,\n",
       "        0.79566234, 0.77540606, 0.45508957, 0.7928343 , 0.72369874,\n",
       "        0.74082947, 0.84760016, 0.6649661 , 0.8083918 , 0.72053266,\n",
       "        0.62066174, 0.8518671 , 0.69002837, 0.78509617, 0.6383494 ,\n",
       "        0.7998797 , 0.7408729 , 0.7934215 , 0.49749476, 0.82681274,\n",
       "        0.7900695 , 0.7422497 , 0.65961325, 0.8075981 , 0.6906568 ,\n",
       "        0.6099402 , 0.8485004 , 0.82997024, 0.9097904 , 0.8866897 ,\n",
       "        0.71976495, 0.33153993, 0.83962137, 0.71680653, 0.7303779 ,\n",
       "        0.7400701 , 0.5973661 , 0.6032242 , 0.6289823 , 0.7225839 ,\n",
       "        0.13285348, 0.3486907 , 0.83975685, 0.86395836, 0.69962806,\n",
       "        0.570296  , 0.6647095 , 0.8715192 , 0.6947359 , 0.8186707 ,\n",
       "        0.82779557, 0.75393695, 0.7748188 , 0.69105697, 0.72937405,\n",
       "        0.54598385, 0.7884957 , 0.81478083, 0.6778389 , 0.6778389 ,\n",
       "        0.6620056 , 0.7151516 , 0.8235061 , 0.8882855 , 0.82069033,\n",
       "        0.7978069 , 0.82442266, 0.8106266 , 0.7605645 , 0.6758319 ,\n",
       "        0.8643763 , 0.7293707 , 0.63167775, 0.5187335 , 0.44520646,\n",
       "        0.7832544 , 0.78441   , 0.8535814 , 0.8250433 , 0.8726978 ,\n",
       "        0.54794014, 0.54328334, 0.71506685, 0.8599892 , 0.8500849 ,\n",
       "        0.9081793 , 0.7179811 , 0.7908828 , 0.71812737, 0.7592632 ,\n",
       "        0.83513474, 0.6968526 , 0.6649418 , 0.7166777 , 0.72171944,\n",
       "        0.54752266, 0.81685495, 0.61732614, 0.8149576 , 0.8516851 ,\n",
       "        0.3210315 , 0.5032208 , 0.543659  , 0.60563296, 0.6965334 ,\n",
       "        0.53222996, 0.80951476, 0.7097977 , 0.7042853 , 0.8338243 ,\n",
       "        0.8851014 , 0.74085283, 0.6676321 , 0.7771092 , 0.6159586 ,\n",
       "        0.6140805 , 0.7340407 , 0.787452  , 0.7223466 , 0.83344567,\n",
       "        0.38733333, 0.785941  , 0.8689685 , 0.8634857 , 0.629928  ,\n",
       "        0.70826566, 0.7342608 , 0.50272185, 0.65806425, 0.68538713,\n",
       "        0.69018364, 0.5417254 , 0.64876497, 0.7404464 , 0.8688655 ,\n",
       "        0.88447684, 0.629421  , 0.5017329 , 0.7131065 , 0.881423  ,\n",
       "        0.7689082 , 0.71176153, 0.79654706, 0.75718874, 0.900136  ,\n",
       "        0.65178895, 0.761503  , 0.7789978 , 0.8895457 , 0.32538974,\n",
       "        0.8075115 , 0.52254987, 0.7165901 , 0.71855485, 0.68260264,\n",
       "        0.68260264, 0.75950223, 0.8553949 , 0.7443371 , 0.724668  ,\n",
       "        0.7003395 , 0.8252071 , 0.35968095, 0.745958  , 0.641461  ,\n",
       "        0.63108754, 0.66949314, 0.4278829 , 0.74980944, 0.9073977 ,\n",
       "        0.7933887 , 0.83282936, 0.83282936, 0.6169779 , 0.9178761 ,\n",
       "        0.9178761 , 0.7830693 , 0.7831333 , 0.66695344, 0.5040334 ,\n",
       "        0.4108827 , 0.46767414, 0.21940722, 0.86662924, 0.86662924,\n",
       "        0.48145068, 0.72402614, 0.7106073 , 0.74854994, 0.4229206 ,\n",
       "        0.70492524, 0.77958107, 0.62624884, 0.85281384, 0.66203845,\n",
       "        0.7395809 , 0.5989191 , 0.7488627 , 0.7750295 , 0.28122872,\n",
       "        0.4845342 , 0.7746403 , 0.73051107, 0.9550288 , 0.7597933 ,\n",
       "        0.7734665 , 0.7978    , 0.6535282 , 0.7300269 , 0.8819084 ,\n",
       "        0.7471728 , 0.64334196, 0.761983  , 0.761983  , 0.8004261 ,\n",
       "        0.65313184, 0.49285433, 0.6134138 , 0.6134138 , 0.47516164,\n",
       "        0.7521849 , 0.76491755, 0.81923735, 0.76979786, 0.5428611 ,\n",
       "        0.8382071 , 0.83822894, 0.6926139 , 0.7616168 , 0.83906484,\n",
       "        0.751317  , 0.7097028 , 0.7097029 , 0.85427713, 0.85427713,\n",
       "        0.59232485, 0.59232485, 0.8042205 , 0.8042205 , 0.7331145 ,\n",
       "        0.748916  , 0.7061284 , 0.66613847, 0.69507617, 0.8577409 ,\n",
       "        0.81219035, 0.15322492, 0.77717865, 0.7826894 , 0.783021  ,\n",
       "        0.78328395, 0.88401675, 0.6471153 , 0.5944528 , 0.8381878 ,\n",
       "        0.74763966, 0.6129379 , 0.5275152 , 0.7336362 , 0.61303914,\n",
       "        0.82250243, 0.55258757, 0.22710426, 0.81086767, 0.8108678 ,\n",
       "        0.8108678 , 0.8108678 , 0.04977573, 0.80229545, 0.65213585,\n",
       "        0.8206562 , 0.7524272 , 0.709339  , 0.58887184, 0.589874  ,\n",
       "        0.62696373, 0.7450067 , 0.78450143, 0.7147436 , 0.7147436 ,\n",
       "        0.7147436 , 0.7147436 , 0.7147436 , 0.7147436 , 0.7147436 ,\n",
       "        0.89222765, 0.527628  , 0.42983878, 0.7184454 , 0.86832577,\n",
       "        0.83946645, 0.79200923, 0.67726755, 0.75843775, 0.7098    ,\n",
       "        0.9075091 , 0.7735665 , 0.75322264, 0.55322516, 0.690851  ,\n",
       "        0.657457  , 0.7859763 , 0.66570646, 0.41667396, 0.7445404 ,\n",
       "        0.70100886, 0.73216665, 0.5766326 , 0.66266644, 0.80774826,\n",
       "        0.6399698 , 0.7651888 , 0.47157687, 0.8329986 , 0.6196578 ,\n",
       "        0.8774816 , 0.8346512 , 0.85051763, 0.5891832 , 0.7998204 ,\n",
       "        0.70271206, 0.783144  , 0.7598524 , 0.77593446, 0.72430694,\n",
       "        0.8390815 , 0.69394755, 0.8565463 , 0.5339565 , 0.8435054 ,\n",
       "        0.715707  , 0.74267477, 0.6903021 , 0.7197121 , 0.8207282 ,\n",
       "        0.8640543 , 0.71913594, 0.8221531 , 0.78635925, 0.7793729 ,\n",
       "        0.77099395, 0.88657355, 0.68764806, 0.15203816, 0.08305739,\n",
       "        0.23238008, 0.20983025, 0.6168403 , 0.8536479 , 0.77694964,\n",
       "        0.69693106, 0.76825416, 0.74425155, 0.4487558 , 0.46649066,\n",
       "        0.8068641 , 0.5104165 , 0.69566727, 0.52086717, 0.70318675,\n",
       "        0.28672355, 0.76332873, 0.3174645 , 0.71999884, 0.76455396,\n",
       "        0.832029  , 0.7165659 , 0.63836396, 0.81871307, 0.64784706,\n",
       "        0.743109  , 0.77506447, 0.7682299 , 0.6796324 , 0.6646911 ,\n",
       "        0.60846156, 0.72890896, 0.4462088 , 0.4729026 , 0.8402156 ,\n",
       "        0.7104074 , 0.8296324 , 0.84004545, 0.7422662 , 0.7457434 ,\n",
       "        0.7951962 , 0.74838245, 0.74838245, 0.6768023 , 0.6489316 ,\n",
       "        0.7815302 , 0.63062906, 0.7336064 , 0.739081  , 0.90682113,\n",
       "        0.84003174, 0.84003174, 0.84003174, 0.84003174, 0.786109  ,\n",
       "        0.6299094 , 0.84245485, 0.85383475, 0.5506723 , 0.5506723 ,\n",
       "        0.8752328 , 0.75763154, 0.80130225, 0.8169328 , 0.5038432 ,\n",
       "        0.79798806, 0.80266666, 0.80862653, 0.89975977, 0.784282  ,\n",
       "        0.731388  , 0.6603222 , 0.7972124 , 0.7072689 , 0.56816995,\n",
       "        0.56816995, 0.7748337 , 0.6925846 , 0.6925846 , 0.70070285,\n",
       "        0.7365924 , 0.7365924 , 0.8146348 , 0.8194181 , 0.8192234 ,\n",
       "        0.6985592 , 0.6985592 , 0.7434707 , 0.47699678, 0.7635395 ,\n",
       "        0.7635395 , 0.7328453 , 0.5672232 , 0.44642088, 0.542768  ,\n",
       "        0.542768  , 0.79886085, 0.6363213 , 0.55373603, 0.4254062 ,\n",
       "        0.7574078 , 0.7347434 , 0.8502114 , 0.5985862 , 0.4762156 ,\n",
       "        0.66831964, 0.84034145, 0.3925491 , 0.6431172 , 0.8105413 ,\n",
       "        0.8105413 , 0.8438477 , 0.8059671 , 0.7585696 , 0.8144014 ,\n",
       "        0.8396686 , 0.8335794 , 0.9014915 , 0.84119916, 0.7225924 ,\n",
       "        0.62357855, 0.7754191 , 0.8669292 , 0.8244109 , 0.90688753,\n",
       "        0.7367804 , 0.85597456, 0.83307874, 0.43844396, 0.56944364,\n",
       "        0.71926576, 0.74937654, 0.79451656, 0.80557215, 0.8382534 ,\n",
       "        0.8558078 , 0.740862  , 0.7833394 , 0.6974691 , 0.30083966,\n",
       "        0.7357968 , 0.69299436, 0.7424341 , 0.7343548 , 0.7256458 ,\n",
       "        0.6768023 , 0.7368163 , 0.83409524, 0.54890823, 0.8479908 ,\n",
       "        0.42399037, 0.01499332, 0.82729626, 0.8471452 , 0.835561  ,\n",
       "        0.6301968 , 0.6737633 , 0.7768254 , 0.70869505, 0.9355587 ,\n",
       "        0.62095726, 0.8197999 , 0.5474878 , 0.7985809 , 0.63807344,\n",
       "        0.9167582 , 0.83389896, 0.5459911 , 0.594039  , 0.864844  ,\n",
       "        0.689486  , 0.6952102 , 0.6885296 , 0.70222867, 0.01487126,\n",
       "        0.6618165 , 0.9244616 , 0.6450764 , 0.6450764 , 0.6329757 ,\n",
       "        0.9476814 , 0.3825077 , 0.80378246, 0.7409887 , 0.86411786,\n",
       "        0.8064812 , 0.68943477, 0.55226684, 0.8758456 , 0.5288331 ,\n",
       "        0.7347854 , 0.647332  , 0.9136149 , 0.5833019 , 0.9003222 ,\n",
       "        0.75403386, 0.39742827, 0.7326839 , 0.61202097, 0.5633609 ,\n",
       "        0.56137353, 0.36802977, 0.8477252 , 0.7716524 , 0.7518212 ,\n",
       "        0.83946985, 0.36116824, 0.7513245 , 0.6027326 , 0.6630239 ,\n",
       "        0.7491772 , 0.83170354, 0.8640191 , 0.7964317 , 0.76700485,\n",
       "        0.7841015 , 0.53703755, 0.81813586, 0.7438072 , 0.80509526,\n",
       "        0.6311173 , 0.78042793, 0.6918645 , 0.7544818 , 0.8710768 ,\n",
       "        0.51002586, 0.7186704 , 0.5181018 , 0.14712112, 0.6033906 ,\n",
       "        0.7923361 , 0.3742891 , 0.6824371 , 0.6824371 , 0.8599424 ,\n",
       "        0.8599424 , 0.79658884, 0.8030486 , 0.24091645, 0.84429884,\n",
       "        0.64055324, 0.6815381 , 0.784445  , 0.7984735 , 0.8124654 ,\n",
       "        0.74881124, 0.76689553, 0.82145464, 0.596455  , 0.800419  ,\n",
       "        0.7270942 , 0.6752247 , 0.807166  , 0.4190006 , 0.34133923,\n",
       "        0.49080953, 0.67010415, 0.59429693, 0.901796  , 0.3806132 ,\n",
       "        0.72485423, 0.5906496 , 0.8787056 , 0.7029492 , 0.6583232 ,\n",
       "        0.9148439 , 0.8431635 , 0.763969  , 0.68550414, 0.79857445,\n",
       "        0.8231892 , 0.8529557 , 0.5658411 , 0.82830894, 0.82830894,\n",
       "        0.6067899 , 0.8146321 , 0.7174519 , 0.9305128 , 0.8934495 ,\n",
       "        0.8463291 , 0.59230256, 0.4297812 , 0.6610723 , 0.595449  ,\n",
       "        0.6204597 , 0.7121947 , 0.68327665, 0.6102035 , 0.7840737 ,\n",
       "        0.63964283, 0.81275356, 0.56984055, 0.7580461 , 0.48880577,\n",
       "        0.79808134, 0.69618714, 0.53334403, 0.82853675, 0.69734466,\n",
       "        0.82021844, 0.6602546 , 0.7344387 , 0.8076833 , 0.78106934,\n",
       "        0.75901985, 0.59219563, 0.64657116, 0.86584574, 0.7559461 ,\n",
       "        0.7424447 , 0.46090743, 0.80738354, 0.7394912 , 0.7976465 ,\n",
       "        0.64637446, 0.5280048 , 0.6336242 , 0.72202396, 0.8539675 ,\n",
       "        0.7208549 , 0.8380221 , 0.7565621 , 0.8228749 , 0.7597479 ,\n",
       "        0.6570386 , 0.7283551 , 0.8225461 , 0.54008955, 0.7296146 ,\n",
       "        0.85993725, 0.67666763, 0.8704576 , 0.75059277, 0.7306729 ,\n",
       "        0.75029683, 0.80732906, 0.6829945 , 0.7662161 , 0.83438855,\n",
       "        0.8247231 , 0.6658732 ]], dtype=float32)"
      ]
     },
     "execution_count": 10,
     "metadata": {},
     "output_type": "execute_result"
    }
   ],
   "source": [
    "result1"
   ]
  },
  {
   "cell_type": "markdown",
   "metadata": {},
   "source": [
    "# Threshold can be set by individual"
   ]
  },
  {
   "cell_type": "code",
   "execution_count": 11,
   "metadata": {
    "scrolled": true
   },
   "outputs": [],
   "source": [
    "output=result1>0.999999"
   ]
  },
  {
   "cell_type": "code",
   "execution_count": 12,
   "metadata": {
    "scrolled": false
   },
   "outputs": [
    {
     "data": {
      "text/plain": [
       "array([[False, False, False, False, False,  True, False, False, False,\n",
       "        False, False, False, False, False, False, False, False, False,\n",
       "        False, False, False, False, False, False, False, False, False,\n",
       "        False, False, False, False, False, False, False, False, False,\n",
       "        False, False, False, False, False, False, False, False, False,\n",
       "        False, False, False, False, False, False, False, False, False,\n",
       "        False, False, False, False, False, False, False, False, False,\n",
       "        False, False, False, False, False, False, False, False, False,\n",
       "        False, False, False, False, False, False, False, False, False,\n",
       "        False, False, False, False, False, False, False, False, False,\n",
       "        False, False, False, False, False, False, False, False, False,\n",
       "        False, False, False, False, False, False, False, False, False,\n",
       "        False, False, False, False, False, False, False, False, False,\n",
       "        False, False, False, False, False, False, False, False, False,\n",
       "        False, False, False, False, False, False, False, False, False,\n",
       "        False, False, False, False, False, False, False, False, False,\n",
       "        False, False, False, False, False, False, False, False, False,\n",
       "        False, False, False, False, False, False, False, False, False,\n",
       "        False, False, False, False, False, False, False, False, False,\n",
       "        False, False, False, False, False, False, False, False, False,\n",
       "        False, False, False, False, False, False, False, False, False,\n",
       "        False, False, False, False, False, False, False, False, False,\n",
       "        False, False, False, False, False, False, False, False, False,\n",
       "        False, False, False, False, False, False, False, False, False,\n",
       "        False, False, False, False, False, False, False, False, False,\n",
       "        False, False, False, False, False, False, False, False, False,\n",
       "        False, False, False, False, False, False, False, False, False,\n",
       "        False, False, False, False, False, False, False, False, False,\n",
       "        False, False, False, False, False, False, False, False, False,\n",
       "        False, False, False, False, False, False, False, False, False,\n",
       "        False, False, False, False, False, False, False, False, False,\n",
       "        False, False, False, False, False, False, False, False, False,\n",
       "        False, False, False, False, False, False, False, False, False,\n",
       "        False, False, False, False, False, False, False, False, False,\n",
       "        False, False, False, False, False, False, False, False, False,\n",
       "        False, False, False, False, False, False, False, False, False,\n",
       "        False, False, False, False, False, False, False, False, False,\n",
       "        False, False, False, False, False, False, False, False, False,\n",
       "        False, False, False, False, False, False, False, False, False,\n",
       "        False, False, False, False, False, False, False, False, False,\n",
       "        False, False, False, False, False, False, False, False, False,\n",
       "        False, False, False, False, False, False, False, False, False,\n",
       "        False, False, False, False, False, False, False, False, False,\n",
       "        False, False, False, False, False, False, False, False, False,\n",
       "        False, False, False, False, False, False, False, False, False,\n",
       "        False, False, False, False, False, False, False, False, False,\n",
       "        False, False, False, False, False, False, False, False, False,\n",
       "        False, False, False, False, False, False, False, False, False,\n",
       "        False, False, False, False, False, False, False, False, False,\n",
       "        False, False, False, False, False, False, False, False, False,\n",
       "        False, False, False, False, False, False, False, False, False,\n",
       "        False, False, False, False, False, False, False, False, False,\n",
       "        False, False, False, False, False, False, False, False, False,\n",
       "        False, False, False, False, False, False, False, False, False,\n",
       "        False, False, False, False, False, False, False, False, False,\n",
       "        False, False, False, False, False, False, False, False, False,\n",
       "        False, False, False, False, False, False, False, False, False,\n",
       "        False, False, False, False, False, False, False, False, False,\n",
       "        False, False, False, False, False, False, False, False, False,\n",
       "        False, False, False, False, False, False, False, False, False,\n",
       "        False, False, False, False, False, False, False, False, False,\n",
       "        False, False, False, False, False, False, False, False, False,\n",
       "        False, False, False, False, False, False, False, False, False,\n",
       "        False, False, False, False, False, False, False, False, False,\n",
       "        False, False, False, False, False, False, False, False, False,\n",
       "        False, False, False, False, False, False, False, False, False,\n",
       "        False, False, False, False, False, False, False, False, False,\n",
       "        False, False, False, False, False, False, False, False, False,\n",
       "        False, False, False, False, False, False, False, False, False,\n",
       "        False, False, False, False, False, False, False, False, False,\n",
       "        False, False, False, False, False, False, False, False, False,\n",
       "        False, False, False, False, False, False, False, False, False,\n",
       "        False, False, False, False, False, False, False, False, False,\n",
       "        False, False, False, False, False, False, False, False, False,\n",
       "        False, False, False, False, False, False, False, False, False,\n",
       "        False, False, False, False, False, False, False, False, False,\n",
       "        False, False, False, False, False, False, False, False, False,\n",
       "        False, False, False, False, False, False, False, False, False,\n",
       "        False, False, False, False, False, False, False, False, False,\n",
       "        False, False, False, False, False, False, False, False, False,\n",
       "        False, False, False, False, False, False, False, False, False,\n",
       "        False, False, False, False, False, False, False, False, False,\n",
       "        False, False, False, False, False, False, False, False, False,\n",
       "        False, False, False, False, False, False, False, False, False,\n",
       "        False, False, False, False, False, False, False, False, False,\n",
       "        False, False, False, False, False, False, False, False, False,\n",
       "        False, False, False, False, False, False, False, False, False,\n",
       "        False, False, False, False, False, False, False, False, False,\n",
       "        False, False, False, False, False, False, False, False, False,\n",
       "        False, False, False, False, False, False, False, False, False,\n",
       "        False, False, False, False, False, False, False, False, False,\n",
       "        False, False, False, False, False, False, False, False, False,\n",
       "        False, False, False, False, False, False, False, False, False,\n",
       "        False, False, False, False, False, False, False, False, False,\n",
       "        False, False, False, False, False, False, False, False, False,\n",
       "        False, False, False, False, False, False, False, False, False,\n",
       "        False, False, False, False, False, False, False, False, False,\n",
       "        False, False, False, False, False, False, False, False, False,\n",
       "        False, False, False, False, False, False, False, False, False,\n",
       "        False, False, False, False, False, False, False, False, False,\n",
       "        False, False, False, False, False, False, False, False, False,\n",
       "        False, False, False, False, False, False, False, False, False,\n",
       "        False, False, False, False, False, False, False, False, False,\n",
       "        False, False, False, False, False, False, False, False, False,\n",
       "        False, False, False, False, False, False, False, False, False,\n",
       "        False, False, False, False, False, False, False, False, False,\n",
       "        False, False, False, False, False, False, False, False, False,\n",
       "        False, False, False, False]])"
      ]
     },
     "execution_count": 12,
     "metadata": {},
     "output_type": "execute_result"
    }
   ],
   "source": [
    "output"
   ]
  }
 ],
 "metadata": {
  "kernelspec": {
   "display_name": "Python 3",
   "language": "python",
   "name": "python3"
  },
  "language_info": {
   "codemirror_mode": {
    "name": "ipython",
    "version": 3
   },
   "file_extension": ".py",
   "mimetype": "text/x-python",
   "name": "python",
   "nbconvert_exporter": "python",
   "pygments_lexer": "ipython3",
   "version": "3.7.3"
  }
 },
 "nbformat": 4,
 "nbformat_minor": 2
}
